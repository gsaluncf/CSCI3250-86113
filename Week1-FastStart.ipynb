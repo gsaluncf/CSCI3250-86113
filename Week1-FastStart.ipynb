{
 "cells": [
  {
   "cell_type": "code",
   "execution_count": null,
   "outputs": [],
   "source": [],
   "metadata": {
    "collapsed": false
   },
   "id": "6c67ffa75e8d024d"
  },
  {
   "cell_type": "markdown",
   "source": [
    "\n",
    "# Python Primer Cheat Sheet\n",
    "\n",
    "This cheat sheet provides a summary of basic Python concepts. Use it as a quick reference when programming!"
   ],
   "metadata": {
    "collapsed": false
   },
   "id": "77c22daf327122de"
  },
  {
   "cell_type": "markdown",
   "id": "6ff478ee36bed9e9",
   "metadata": {
    "collapsed": false
   },
   "source": [
    "## 1. Comments\n",
    "```python\n",
    "# This is a single-line comment. There also comments for documentation\n",
    "\n",
    "'''\n",
    "This is a multi-line \n",
    "comment using triple single quotes.\n",
    "'''\n",
    "\n",
    "\"\"\"\n",
    "This is a multi-line \n",
    "comment using triple double quotes.\n",
    "\"\"\"\n",
    "```"
   ]
  },
  {
   "cell_type": "markdown",
   "id": "83951a4aba8cff55",
   "metadata": {
    "collapsed": false
   },
   "source": [
    "## 2. Indents and Blocks\n",
    "\n",
    "In Python, whitespace and indentation are important. Code blocks are defined by their indentation. Use a colon to start a block and indent one tab per column."
   ]
  },
  {
   "cell_type": "code",
   "execution_count": 1,
   "id": "44b525544f9265d5",
   "metadata": {
    "collapsed": false,
    "ExecuteTime": {
     "end_time": "2023-09-05T00:11:36.495634300Z",
     "start_time": "2023-09-05T00:11:36.485638300Z"
    }
   },
   "outputs": [
    {
     "name": "stdout",
     "output_type": "stream",
     "text": [
      "Hello, World!\n"
     ]
    }
   ],
   "source": [
    "\n",
    "if True:\n",
    "    # This is inside the block\n",
    "    print(\"Hello, World!\")\n",
    "# This is outside the block\n"
   ]
  },
  {
   "cell_type": "markdown",
   "id": "3ea95f6d960c7c3a",
   "metadata": {},
   "source": [
    "## 3. Data Types\n",
    "```python\n",
    "integer = 10\n",
    "float_num = 20.5\n",
    "string = \"Hello, World!\"\n",
    "```"
   ]
  },
  {
   "cell_type": "code",
   "execution_count": null,
   "id": "1a08fb7726239f1c",
   "metadata": {
    "collapsed": false
   },
   "outputs": [],
   "source": [
    "integer = 10\n",
    "float_num = 20.5\n",
    "string = \"Hello, World!\""
   ]
  },
  {
   "cell_type": "markdown",
   "id": "c736af6d280d6def",
   "metadata": {},
   "source": [
    "## 4. Arithmetic Operations\n",
    "```python\n",
    "a = 5 + 3  # Addition\n",
    "b = 5 - 3  # Subtraction\n",
    "c = 5 * 3  # Multiplication\n",
    "d = 5 / 3  # Division\n",
    "e = 5 % 3  # Modulus (Remainder)\n",
    "f = 5 ** 3 # Exponentiation\n",
    "g = 5 // 3 # Floor division\n",
    "```"
   ]
  },
  {
   "cell_type": "code",
   "execution_count": null,
   "id": "7b47b2b3a037c6",
   "metadata": {
    "collapsed": false
   },
   "outputs": [],
   "source": [
    "a = 5 + 3  # Addition\n",
    "b = 5 - 3  # Subtraction\n",
    "c = 5 * 3  # Multiplication\n",
    "d = 5 / 3  # Division\n",
    "e = 5 % 3  # Modulus (Remainder)\n",
    "f = 5 ** 3 # Exponentiation\n",
    "g = 5 // 3 # Floor division\n",
    "print (f'a:{a} b:{b} c:{c} d:{d} e:{e} f:{f} g:{g}')"
   ]
  },
  {
   "cell_type": "markdown",
   "id": "1241f9391607f356",
   "metadata": {
    "collapsed": false
   },
   "source": [
    "## 5. Conditionals\n",
    "```python\n",
    "if condition:\n",
    "    # do something\n",
    "    pass\n",
    "elif another_condition:\n",
    "    # do something else\n",
    "    pass\n",
    "else:\n",
    "    # default action\n",
    "    pass\n",
    "\n",
    "```"
   ]
  },
  {
   "cell_type": "code",
   "execution_count": null,
   "id": "d208a81624bfbdc1",
   "metadata": {
    "collapsed": false
   },
   "outputs": [],
   "source": [
    "condition = True\n",
    "another_condition = False\n",
    "\n",
    "if condition:\n",
    "    # do something\n",
    "    pass\n",
    "elif another_condition:\n",
    "    # do something else\n",
    "    pass\n",
    "else:\n",
    "    # default action\n",
    "    pass"
   ]
  },
  {
   "cell_type": "markdown",
   "id": "dd276dc95d0c6de4",
   "metadata": {},
   "source": [
    "## 6. Loops\n",
    "\n",
    "### a. Standard For Loop\n",
    "```python\n",
    "item = [1, 2, 3]\n",
    "for item in iterable:\n",
    "    print(item)\n",
    "```"
   ]
  },
  {
   "cell_type": "markdown",
   "id": "c861c5948aa19fb9",
   "metadata": {},
   "source": [
    "### b. Range Function in For Loop\n",
    "```python\n",
    "for i in range(5):\n",
    "    print(i)\n",
    "```"
   ]
  },
  {
   "cell_type": "markdown",
   "id": "166496f43f0a7ab2",
   "metadata": {},
   "source": [
    "### c. Enumerate in For Loop\n",
    "```python\n",
    "fruits = [\"apple\", \"banana\", \"cherry\"]\n",
    "for index, fruit in enumerate(fruits):\n",
    "    print(index, fruit)\n",
    "```"
   ]
  },
  {
   "cell_type": "code",
   "execution_count": null,
   "id": "aaef205e2d54f023",
   "metadata": {
    "collapsed": false
   },
   "outputs": [],
   "source": [
    "items = [1, 2, 3]\n",
    "for item in items:\n",
    "    print(item)\n",
    "for i in range(5):\n",
    "    print(i)\n",
    "fruits = [\"apple\", \"banana\", \"cherry\"]\n",
    "for index, fruit in enumerate(fruits):\n",
    "    print(index, fruit)"
   ]
  },
  {
   "cell_type": "markdown",
   "id": "168b349c8cc701d0",
   "metadata": {},
   "source": [
    "### d. Nested For Loops\n",
    "```python\n",
    "for x in range(3):          \n",
    "    for y in range(2):      \n",
    "        print(x, y)\n",
    "```"
   ]
  },
  {
   "cell_type": "markdown",
   "id": "d0e0c27a12726216",
   "metadata": {},
   "source": [
    "### e. Looping Over Dictionaries\n",
    "```python\n",
    "my_dict = {\"a\": 1, \"b\": 2, \"c\": 3}\n",
    "for key, value in my_dict.items():\n",
    "    print(key, value)\n",
    "```"
   ]
  },
  {
   "cell_type": "markdown",
   "id": "8ed7322d1497bdaf",
   "metadata": {
    "collapsed": false
   },
   "source": [
    "fruits = [\"apple\", \"banana\", \"cherry\"]\n",
    "for index, fruit in enumerate(fruits):\n",
    "    print(index, fruit)"
   ]
  },
  {
   "cell_type": "markdown",
   "id": "b26c29a90ff7166c",
   "metadata": {},
   "source": [
    "### f. List Comprehension\n",
    "```python\n",
    "squared = [x*x for x in range(10) if x % 2 == 0]\n",
    "```"
   ]
  },
  {
   "cell_type": "code",
   "execution_count": null,
   "id": "6a8544a44a909fd5",
   "metadata": {
    "collapsed": false
   },
   "outputs": [],
   "source": [
    "squared = [x*x for x in range(10) if x % 2 == 0]\n",
    "print (squared)"
   ]
  },
  {
   "cell_type": "markdown",
   "id": "564a3355c727fcb8",
   "metadata": {},
   "source": [
    "## 7. Functions\n",
    "```python\n",
    "def function_name(parameters):\n",
    "    # code\n",
    "    return something\n",
    "```"
   ]
  },
  {
   "cell_type": "markdown",
   "id": "fd7f3b188bc4af60",
   "metadata": {},
   "source": [
    "## 8. File Handling\n",
    "```python\n",
    "with open('filename.txt', 'r') as file:\n",
    "    content = file.read()\n",
    "```"
   ]
  },
  {
   "cell_type": "markdown",
   "id": "52095c4686e6225c",
   "metadata": {},
   "source": [
    "## 10. List Comprehensions\n",
    "```python\n",
    "new_list = [x*x for x in range(10) if x % 2 == 0]\n",
    "```"
   ]
  },
  {
   "cell_type": "markdown",
   "id": "d4dba3c291a46c07",
   "metadata": {},
   "source": [
    "## 11. Lambda Functions\n",
    "```python\n",
    "f = lambda x: x * x\n",
    "```"
   ]
  },
  {
   "cell_type": "markdown",
   "id": "9d97d36065f66ab6",
   "metadata": {},
   "source": [
    "## 12. Imports and Library Paths/Virtual Environments\n",
    "```python\n",
    "import math\n",
    "from datetime import date\n"
   ]
  },
  {
   "cell_type": "markdown",
   "id": "9c287a0cd23dddb",
   "metadata": {
    "collapsed": false
   },
   "source": []
  },
  {
   "cell_type": "markdown",
   "id": "c026b0748bf3a070",
   "metadata": {},
   "source": [
    "## 13. Basic String Operations\n",
    "```python\n",
    "len(\"hello\")       # 5\n",
    "\"hello\".upper()    # \"HELLO\"\n",
    "\"HELLO\".lower()    # \"hello\"\n",
    "\"hello\".replace(\"e\", \"a\") # \"hallo\"\n",
    "```"
   ]
  },
  {
   "cell_type": "markdown",
   "id": "aad19a4cbbc3392d",
   "metadata": {},
   "source": [
    "## 14. Tuples, Lists, and Dictionaries\n",
    "\n",
    "### a. Tuples\n",
    "Immutable sequences of objects.\n",
    "```python\n",
    "tuple_data = (1, 2, 3, \"banana\")\n",
    "for item in tuple_data:\n",
    "    print(item)\n",
    "```"
   ]
  },
  {
   "cell_type": "markdown",
   "id": "6a1d38e6a4277789",
   "metadata": {},
   "source": [
    "### c. Dictionaries\n",
    "Mutable key-value pairs.\n",
    "```python\n",
    "dict_data = {\"key\": \"value\", \"name\": \"John\"}\n",
    "for key in dict_data:\n",
    "    print(key)\n",
    "for value in dict_data.values():\n",
    "    print(value)\n",
    "for key, value in dict_data.items():\n",
    "    print(key, value)\n",
    "dict_data[\"age\"] = 30\n",
    "name_value = dict_data[\"name\"]\n",
    "age_value = dict_data.get(\"age\", \"Default Age\")\n",
    "```"
   ]
  },
  {
   "cell_type": "code",
   "execution_count": null,
   "id": "33a2c641bef0fdf9",
   "metadata": {
    "collapsed": false
   },
   "outputs": [],
   "source": [
    "dict_data = {\"key\": \"value\", \"name\": \"John\"}\n",
    "for key in dict_data:\n",
    "    print(key)\n",
    "for value in dict_data.values():\n",
    "    print(value)\n",
    "for key, value in dict_data.items():\n",
    "    print(key, value)\n",
    "dict_data[\"age\"] = 30\n",
    "name_value = dict_data[\"name\"]\n",
    "age_value = dict_data.get(\"age\", \"Default Age\")"
   ]
  },
  {
   "cell_type": "markdown",
   "id": "3735cd392b2ca36d",
   "metadata": {},
   "source": [
    "## 15. Dunder Methods and main Execution\n",
    "\n",
    "```python\n",
    "# Dunder methods are magic methods in Python\n",
    "# The most common is __main__\n",
    "\n",
    "if __name__ == '__main__':\n",
    "    # Code here will only run if the script is executed directly, not imported.\n",
    "    print(\"This script is being run directly.\")\n",
    "```"
   ]
  },
  {
   "cell_type": "markdown",
   "id": "755e83cff411636a",
   "metadata": {},
   "source": [
    "## 16. Context and Scope\n",
    "\n",
    "In Python, variables have scope – the region of the code where they can be accessed directly.\n",
    "\n",
    "```python\n",
    "x = 10  # This is a global variable\n",
    "\n",
    "def my_function():\n",
    "    y = 5  # This is a local variable\n",
    "    print(x)  # We can access x because it's global\n",
    "    print(y)  # We can access y because it's local to the function\n",
    "\n",
    "my_function()\n",
    "\n",
    "# print(y) would cause an error here because y is local to the function"
   ]
  },
  {
   "cell_type": "markdown",
   "id": "d8cf7897a74e4610",
   "metadata": {
    "collapsed": false
   },
   "source": [
    " For virtual environments:\n",
    " You'd usually set up a new environment using:\n",
    " python -m venv myenv\n",
    " To activate:\n",
    " Windows: .\\myenv\\Scripts\\Activate\n",
    " Unix/Mac: source myenv/bin/activate"
   ]
  }
 ],
 "metadata": {
  "colab": {
   "collapsed_sections": [],
   "display_mode": "both",
   "name": "Python Primer Cheat Sheet.ipynb",
   "provenance": [],
   "toc_depth": 4,
   "toc_visible": true,
   "upgrade_dependency": {
    "name": "numpy",
    "version": "1.21.2"
   }
  },
  "kernelspec": {
   "display_name": "Python 3 (ipykernel)",
   "language": "python",
   "name": "python3"
  },
  "language_info": {
   "codemirror_mode": {
    "name": "ipython",
    "version": 3
   },
   "file_extension": ".py",
   "mimetype": "text/x-python",
   "name": "python",
   "nbconvert_exporter": "python",
   "pygments_lexer": "ipython3",
   "version": "3.11.4"
  }
 },
 "nbformat": 4,
 "nbformat_minor": 5
}
