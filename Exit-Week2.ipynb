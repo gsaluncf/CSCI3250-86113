{
 "cells": [
  {
   "cell_type": "markdown",
   "source": [],
   "metadata": {
    "collapsed": false
   },
   "id": "62019169dcbccb25"
  },
  {
   "cell_type": "markdown",
   "source": [
    "# Python Basic Quiz Find the thing that is wrong in each question and fix it\n"
   ],
   "metadata": {
    "collapsed": false
   },
   "id": "7f687d62d0d8fea6"
  },
  {
   "cell_type": "markdown",
   "source": [
    "# 1. Comments - Uncomment the line below"
   ],
   "metadata": {
    "collapsed": false
   },
   "id": "c10eba67776ce7e7"
  },
  {
   "cell_type": "code",
   "execution_count": null,
   "outputs": [],
   "source": [
    "\n",
    "# print(This is a comment.)"
   ],
   "metadata": {
    "collapsed": false
   },
   "id": "58668fbfd7561091"
  },
  {
   "cell_type": "markdown",
   "source": [
    "\n",
    "# 2. Indents and Blocks - Fix the indentation error below"
   ],
   "metadata": {
    "collapsed": false
   },
   "id": "b273b98725abbde0"
  },
  {
   "cell_type": "code",
   "execution_count": null,
   "outputs": [],
   "source": [
    "if True:\n",
    "print(\"Hello, World!\")"
   ],
   "metadata": {
    "collapsed": false
   },
   "id": "b26fdd1f7dc6b4a7"
  },
  {
   "cell_type": "markdown",
   "source": [
    "\n",
    "# 3. Data Types - Correct the datatype of one of the variables to make the operation valid"
   ],
   "metadata": {
    "collapsed": false
   },
   "id": "96519af428bc8efc"
  },
  {
   "cell_type": "code",
   "execution_count": null,
   "outputs": [],
   "source": [
    "\n",
    "integer = 10\n",
    "float_num = \"20.5\"\n",
    "result = integer + float_num\n",
    "print(result)"
   ],
   "metadata": {
    "collapsed": false
   },
   "id": "ea6becc675bf60e0"
  },
  {
   "cell_type": "markdown",
   "source": [
    "\n",
    "# 4. Imports - Fix the import error"
   ],
   "metadata": {
    "collapsed": false
   },
   "id": "d87b1bccf53afcf5"
  },
  {
   "cell_type": "code",
   "execution_count": null,
   "outputs": [],
   "source": [
    "\n",
    "import datetime\n",
    "print(datetime.now())"
   ],
   "metadata": {
    "collapsed": false
   },
   "id": "c579c260d80f11c6"
  },
  {
   "cell_type": "markdown",
   "source": [
    "\n",
    "\n",
    "# 5. Variables - Correct the variable name to fix the NameError"
   ],
   "metadata": {
    "collapsed": false
   },
   "id": "85c21cb9c038f547"
  },
  {
   "cell_type": "code",
   "execution_count": null,
   "outputs": [],
   "source": [
    "\n",
    "x = 5\n",
    "print(y)"
   ],
   "metadata": {
    "collapsed": false
   },
   "id": "3de3794563c4083f"
  },
  {
   "cell_type": "markdown",
   "source": [
    "\n",
    "# 6. Conditional Statements - Correct the syntax error"
   ],
   "metadata": {
    "collapsed": false
   },
   "id": "236b16227af331ed"
  },
  {
   "cell_type": "code",
   "execution_count": null,
   "outputs": [],
   "source": [
    "if x = 5:\n",
    "    print(\"x is 5\")"
   ],
   "metadata": {
    "collapsed": false
   },
   "id": "e3f95bbe6dda8bd6"
  },
  {
   "cell_type": "markdown",
   "source": [
    "\n",
    "# 7. For Loops - Make the for loop print numbers 0 through 4"
   ],
   "metadata": {
    "collapsed": false
   },
   "id": "5ccee3a786fc4075"
  },
  {
   "cell_type": "code",
   "execution_count": null,
   "outputs": [],
   "source": [
    "for i in range(6):\n",
    "    print(i)\n"
   ],
   "metadata": {
    "collapsed": false
   },
   "id": "7bad0883c67017a2"
  },
  {
   "cell_type": "markdown",
   "source": [
    "# 8. While Loops - Prevent the infinite loop"
   ],
   "metadata": {
    "collapsed": false
   },
   "id": "a12a75e4fe44b4f6"
  },
  {
   "cell_type": "code",
   "execution_count": null,
   "outputs": [],
   "source": [
    "x = 0\n",
    "while x < 5:\n",
    "print(x)"
   ],
   "metadata": {
    "collapsed": false
   },
   "id": "a2a0df264e4d0446"
  },
  {
   "cell_type": "markdown",
   "source": [
    "\n",
    "# 9. Functions - Correct the error in the function definition"
   ],
   "metadata": {
    "collapsed": false
   },
   "id": "4db3524a643d039"
  },
  {
   "cell_type": "code",
   "execution_count": null,
   "outputs": [],
   "source": [
    "def hello()\n",
    "    print(\"Hello, World!\")\n",
    "hello()"
   ],
   "metadata": {
    "collapsed": false
   },
   "id": "2854a39a2b07107e"
  },
  {
   "cell_type": "markdown",
   "source": [
    "\n",
    "# 10. Dictionaries - Access the value associated with the key 'age'"
   ],
   "metadata": {
    "collapsed": false
   },
   "id": "67bd8a12728a499"
  },
  {
   "cell_type": "code",
   "execution_count": null,
   "outputs": [],
   "source": [
    "person = {\n",
    "    \"name\": \"John\",\n",
    "    \"age\": 30\n",
    "}\n",
    "print(person[\"name\"])\n"
   ],
   "metadata": {
    "collapsed": false
   },
   "id": "eb94505ca5db6410"
  }
 ],
 "metadata": {
  "kernelspec": {
   "display_name": "Python 3",
   "language": "python",
   "name": "python3"
  },
  "language_info": {
   "codemirror_mode": {
    "name": "ipython",
    "version": 2
   },
   "file_extension": ".py",
   "mimetype": "text/x-python",
   "name": "python",
   "nbconvert_exporter": "python",
   "pygments_lexer": "ipython2",
   "version": "2.7.6"
  }
 },
 "nbformat": 4,
 "nbformat_minor": 5
}
